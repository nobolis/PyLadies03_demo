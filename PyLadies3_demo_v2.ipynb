{
 "metadata": {
  "name": "",
  "signature": "sha256:31cea779d7cf91af5018d9c7a489d6506b42b5efdd09bc1bc8bfcaaac71dc84a"
 },
 "nbformat": 3,
 "nbformat_minor": 0,
 "worksheets": [
  {
   "cells": [
    {
     "cell_type": "heading",
     "level": 1,
     "metadata": {},
     "source": [
      "PyLadies Tokyo #3 demo"
     ]
    },
    {
     "cell_type": "heading",
     "level": 2,
     "metadata": {},
     "source": [
      "\u306f\u3058\u3081\u306b"
     ]
    },
    {
     "cell_type": "markdown",
     "metadata": {},
     "source": [
      "* \u3053\u306e\u30d5\u30a1\u30a4\u30eb\u306fPyLadies Tokyo meet up \\#3 (2015/01/23)\u306e\u305f\u3081\u306b\u4f5c\u6210\u3057\u305f\u30c7\u30e2\u30d5\u30a1\u30a4\u30eb\u3067\u3059\u3002 \n",
      "* \u30b3\u30fc\u30c9\u30ec\u30d3\u30e5\u30fc\u6b53\u8fce\u3067\u3059\uff01"
     ]
    },
    {
     "cell_type": "heading",
     "level": 2,
     "metadata": {},
     "source": [
      "\u5229\u7528\u30e1\u30e2"
     ]
    },
    {
     "cell_type": "markdown",
     "metadata": {},
     "source": [
      "1. ipython notebook\u306e\u8d77\u52d5  \n",
      "\n",
      "  ipython notebook --matplotlib inline  \n",
      "  \n",
      "  \u3068\u3059\u308b\u3068\u3001\u56f3\u304c\u30a4\u30f3\u30e9\u30a4\u30f3\u8868\u793a\u3055\u308c\u308b  \n",
      " \n",
      "2\uff0e\u57fa\u672c\u30b7\u30e7\u30fc\u30c8\u30ab\u30c3\u30c8\n",
      "* Shift-enter  \u30bb\u30eb\u5b9f\u884c\uff08\u30bb\u30eb\u5185\u306e\u6700\u5f8c\u306e\u884c\u306e\u7d50\u679c\u304c\u51fa\u529b\u3055\u308c\u308b\uff09\n",
      "* Ctr-Enter    \u305d\u306e\u5834\u3067\u30bb\u30eb\u5b9f\u884c\uff08\u5b9f\u884c\u5f8c\u6b21\u306e\u30bb\u30eb\u306b\u79fb\u52d5\u3057\u306a\u3044\uff09\n",
      "* Alt-Enter    \u30bb\u30eb\u5b9f\u884c\uff0b\u4e0b\u306b\u30bb\u30eb\u3092\u4f5c\u6210\n",
      "* Ctr-m        Ctr-m\u306e\u5f8c\u306b\u6587\u5b57\u3092\u6253\u3064\u3053\u3068\u3067\u30b7\u30e7\u30fc\u30c8\u30ab\u30c3\u30c8\u3092\u5b9f\u884c  \n",
      "  x cut  \n",
      "  c copy  \n",
      "  v paste \n",
      "  d delete  \n",
      "  z undo last cell deletion  \n",
      "  \\- split cell\n",
      "  a insert cell above  \n",
      "  b insert cell below  \n",
      "  o toggle output  \n",
      "  O toggle output scroll   \n",
      "  l toggle line numbers   \n",
      "  s save notebook  \n",
      "  j move cell down  \n",
      "  k move cell up  \n",
      "  y code cell  \n",
      "  m markdown cell  \n",
      "  t raw cell  \n",
      "  1-6 heading 1-6 cell  \n",
      "  p select previous  \n",
      "  n select next  \n",
      "  i interrupt kernel  \n",
      "  . restart kernel  \n",
      "  h show keyboard shortcuts  \n",
      "  \n",
      "\n",
      "\u3010\u53c2\u8003\u3011  \n",
      "  * iPython Notebook\u306e--pylab Inline\u306f\u4f7f\u3046\u306e\u3092\u3084\u3081\u3088\u3046\u3068\u3044\u3046\u8a71  \n",
      "  http://yagays.github.io/blog/2014/08/15/ipython-notebook-matplotlib-inline/   \n",
      "  * Keyboard shortcuts  \n",
      "  http://ipython.org/ipython-doc/rel-1.1.0/interactive/notebook.html#keyboard-shortcuts  "
     ]
    },
    {
     "cell_type": "heading",
     "level": 2,
     "metadata": {},
     "source": [
      "Library"
     ]
    },
    {
     "cell_type": "code",
     "collapsed": false,
     "input": [
      "import numpy as np #\u7279\u306b\u610f\u5473\u306f\u306a\u3044\u304c\u304a\u7d04\u675f\u306e\u66f8\u304d\u65b9\u3002numpy\u3092np\u3068\u7701\u7565\u3057\u3066\u66f8\u3051\u308b\n",
      "import pandas as pd #\u7279\u306b\u610f\u5473\u306f\u306a\u3044\u304c\u304a\u7d04\u675f\u306e\u66f8\u304d\u65b9\u3002pandas\u3092pd\u3068\u7701\u7565\u3057\u3066\u66f8\u3051\u308b\n",
      "import scipy as spy\n",
      "import matplotlib.pyplot as plt #\u63cf\u753b\uff0cpython xy\u3092\u3064\u304b\u3046\u306a\u3089\u4e0d\u8981\n",
      "import itertools\n",
      "import random #\u300c\u901a\u5e38\u306e\u4e71\u6570\u767a\u751f\u300d\u3067\u5229\u7528\n",
      "\n",
      "from scipy import stats\n",
      "from pandas import DataFrame\n",
      "from itertools import combinations\n",
      "from itertools import permutations\n"
     ],
     "language": "python",
     "metadata": {},
     "outputs": [],
     "prompt_number": 1
    },
    {
     "cell_type": "heading",
     "level": 2,
     "metadata": {},
     "source": [
      "Numpy"
     ]
    },
    {
     "cell_type": "code",
     "collapsed": false,
     "input": [
      "#2.x\u7cfb\u74b0\u5883\u3067\u66f8\u3044\u305f\u30b3\u30fc\u30c9\uff082\u7cfb\u3067\u306f\u3059\u3050\u306b\u8a55\u4fa1\u3055\u308c\u308b\u304c\u30013\u7cfb\u74b0\u5883\u3067\u5b9f\u884c\u3059\u308b\u3068\u3059\u3050\u306b\u8a55\u4fa1\u3055\u308c\u306a\u3044\uff09\n",
      "dat1 = range(3) #= [0, 1, 2]\n",
      "dat2 = range(3,6)#= [3, 4, 5]\n",
      "dat3 = range(6,9)#= [6, 7, 8]\n",
      "dat4 = range(9,12)#= [9, 10, 11]\n",
      "\n",
      "#3.x\u7cfb\u74b0\u5883\u3067\u66f8\u3044\u305f\u30b3\u30fc\u30c9\uff08list\u3092\u52a0\u3048\u308b\u3053\u3068\u306b\u3088\u3063\u3066\u30013\u7cfb\u74b0\u5883\u3067\u30822\u7cfb\u74b0\u5883\u3067\u5f97\u305f\u306e\u3068\u540c\u69d8\u306e\u7d50\u679c\u3068\u306a\u308b\u304c\u3001\u8a08\u7b97\u4e0a\u306f\u7121\u610f\u5473\uff09\n",
      "#dat1 = list(range(3))\n",
      "#dat2 = list(range(3,6))\n",
      "#dat3 = list(range(6,9))\n",
      "#dat4 = list(range(9,12))\n",
      "\n",
      "dat12 = [dat1, dat2]\n",
      "dat34 = [dat3, dat4]\n",
      "\n",
      "dat34"
     ],
     "language": "python",
     "metadata": {},
     "outputs": [
      {
       "metadata": {},
       "output_type": "pyout",
       "prompt_number": 2,
       "text": [
        "[range(6, 9), range(9, 12)]"
       ]
      }
     ],
     "prompt_number": 2
    },
    {
     "cell_type": "code",
     "collapsed": false,
     "input": [
      "dat12 + dat34 #\u901a\u5e38\u306ePython\u306e\u8db3\u3057\u7b97\u306e\u5834\u5408"
     ],
     "language": "python",
     "metadata": {},
     "outputs": [
      {
       "metadata": {},
       "output_type": "pyout",
       "prompt_number": 3,
       "text": [
        "[range(0, 3), range(3, 6), range(6, 9), range(9, 12)]"
       ]
      }
     ],
     "prompt_number": 3
    },
    {
     "cell_type": "markdown",
     "metadata": {},
     "source": [
      "##\u8ffd\u8a18\u03c6(.. ) \n",
      "\u300c2\u7cfb\u3067\u66f8\u3044\u305f\u306e\u304c3\u7cfb\u3067\u6b63\u3057\u304f\u52d5\u304b\u306a\u3044\u300d\u3068\u601d\u3063\u3066\u3044\u305f\u3068\u3053\u308d\u3001Slack #onair\u3067\u300crange() \u306f\u3044\u3051\u308b\u6c17\u304c\u3059\u308b\u300d\u3068\u30b3\u30e1\u30f3\u30c8\u304c\u5165\u3063\u305f\u306e\u3067\u8abf\u3079\u3066\u307f\u305f\u3068\u3053\u308d\u3001\u4ee5\u4e0b\u306e\u8a18\u4e8b\u3092\u307f\u3064\u3051\u307e\u3057\u305f\uff1a  \n",
      "\n",
      "\u8a00\u8a9e\u3068\u3057\u3066\u306e\u4e00\u8cab\u6027\u3092\u91cd\u8996\u3057\u305fPython 3\u306e\u9032\u5316 (1/2)  \n",
      "http://qiita.com/Qiita/items/c686397e4a0f4f11683d\n",
      ">Python 3.0\u3067\u306f\u3001\u3053\u308c\u307e\u3067\u30ea\u30b9\u30c8\u3092\u8fd4\u3057\u3066\u3044\u305f\u30e1\u30bd\u30c3\u30c9\u3084\u7d44\u307f\u8fbc\u307f\u95a2\u6570\u304c\u30a4\u30c6\u30ec\u30fc\u30bf\u3084view\uff08\u30d3\u30e5\u30fc\uff09\u3068\u547c\u3070\u308c\u308b\u8efd\u91cf\u306e\u30a4\u30c6\u30ec\u30fc\u30bf\u98a8\u30aa\u30d6\u30b8\u30a7\u30af\u30c8\u3092\u8fd4\u3059\u3088\u3046\u306b\u306a\u308a\u307e\u3057\u305f\u3002\n",
      "\n",
      "\u3000\u30a4\u30c6\u30ec\u30fc\u30bf\u30fc\u3063\u3066\u306a\u306b\uff1f\u3063\u3066\u611f\u3058\u306a\u3093\u3067\u3059\u304c\u3001\u3068\u308a\u3042\u3048\u305a\u5927\u304d\u304f\u5909\u308f\u3063\u3066\u3044\u308b\u3063\u3066\u3053\u3068\u3068\u7406\u89e3\u3002"
     ]
    },
    {
     "cell_type": "code",
     "collapsed": false,
     "input": [
      "npa12 = np.array(dat12) #\u4e0a\u3067\u8a55\u4fa1\u3055\u308c\u306a\u304b\u3063\u305fdat12\u304c\u3053\u3053\u3067\u8a55\u4fa1\u3055\u308c\u308b\n",
      "npa34 = np.array(dat34)\n",
      "npa12 "
     ],
     "language": "python",
     "metadata": {},
     "outputs": [
      {
       "metadata": {},
       "output_type": "pyout",
       "prompt_number": 4,
       "text": [
        "array([[0, 1, 2],\n",
        "       [3, 4, 5]])"
       ]
      }
     ],
     "prompt_number": 4
    },
    {
     "cell_type": "code",
     "collapsed": false,
     "input": [
      "npa12 + npa34 #np.array\u306e\u8db3\u3057\u7b97\u306e\u5834\u5408\u3001\u884c\u5217\u306e\u8db3\u3057\u7b97\u306b\u306a\u308b"
     ],
     "language": "python",
     "metadata": {},
     "outputs": [
      {
       "metadata": {},
       "output_type": "pyout",
       "prompt_number": 5,
       "text": [
        "array([[ 6,  8, 10],\n",
        "       [12, 14, 16]])"
       ]
      }
     ],
     "prompt_number": 5
    },
    {
     "cell_type": "code",
     "collapsed": false,
     "input": [
      "np.zeros(5) #\u30bc\u30ed\u3060\u3051\u306e\u914d\u5217"
     ],
     "language": "python",
     "metadata": {},
     "outputs": [
      {
       "metadata": {},
       "output_type": "pyout",
       "prompt_number": 6,
       "text": [
        "array([ 0.,  0.,  0.,  0.,  0.])"
       ]
      }
     ],
     "prompt_number": 6
    },
    {
     "cell_type": "code",
     "collapsed": false,
     "input": [
      "np.zeros((2,3)) #\u30bc\u30ed\u3060\u3051\u306e\u914d\u5217\uff082x3)"
     ],
     "language": "python",
     "metadata": {},
     "outputs": [
      {
       "metadata": {},
       "output_type": "pyout",
       "prompt_number": 7,
       "text": [
        "array([[ 0.,  0.,  0.],\n",
        "       [ 0.,  0.,  0.]])"
       ]
      }
     ],
     "prompt_number": 7
    },
    {
     "cell_type": "code",
     "collapsed": false,
     "input": [
      "np.arange(5) #\u7b49\u5dee\u6570\u5217"
     ],
     "language": "python",
     "metadata": {},
     "outputs": [
      {
       "metadata": {},
       "output_type": "pyout",
       "prompt_number": 8,
       "text": [
        "array([0, 1, 2, 3, 4])"
       ]
      }
     ],
     "prompt_number": 8
    },
    {
     "cell_type": "heading",
     "level": 2,
     "metadata": {},
     "source": [
      "\u4e71\u6570\u767a\u751f"
     ]
    },
    {
     "cell_type": "code",
     "collapsed": false,
     "input": [
      "#\u901a\u5e38\u306e\u4e71\u6570\u767a\u751f\u306e\u5834\u5408\n",
      "mean = 1.0\n",
      "sd = 0.1\n",
      "\n",
      "i=0\n",
      "rdat2 = []\n",
      "while i < 1000:\n",
      "    rdat = random.gauss(mean, sd)\n",
      "    rdat2.append(rdat)    \n",
      "    #print(rdat)\n",
      "    i += 1\n",
      "    \n",
      "np.mean(rdat2)\n",
      "#rdat2"
     ],
     "language": "python",
     "metadata": {},
     "outputs": [
      {
       "metadata": {},
       "output_type": "pyout",
       "prompt_number": 9,
       "text": [
        "1.0038144679104342"
       ]
      }
     ],
     "prompt_number": 9
    },
    {
     "cell_type": "code",
     "collapsed": false,
     "input": [
      "plt.hist(rdat2, bins=50)"
     ],
     "language": "python",
     "metadata": {},
     "outputs": [
      {
       "metadata": {},
       "output_type": "pyout",
       "prompt_number": 10,
       "text": [
        "(array([  2.,   0.,   1.,   1.,   3.,   5.,   3.,   1.,   7.,   6.,   5.,\n",
        "         14.,  21.,  17.,  23.,  27.,  33.,  49.,  57.,  55.,  52.,  62.,\n",
        "         47.,  64.,  58.,  48.,  47.,  48.,  48.,  37.,  22.,  29.,  20.,\n",
        "         23.,  18.,  17.,   6.,   7.,   3.,   2.,   4.,   1.,   1.,   1.,\n",
        "          2.,   1.,   1.,   0.,   0.,   1.]),\n",
        " array([ 0.67019718,  0.68455695,  0.69891673,  0.71327651,  0.72763629,\n",
        "         0.74199606,  0.75635584,  0.77071562,  0.7850754 ,  0.79943518,\n",
        "         0.81379495,  0.82815473,  0.84251451,  0.85687429,  0.87123407,\n",
        "         0.88559384,  0.89995362,  0.9143134 ,  0.92867318,  0.94303295,\n",
        "         0.95739273,  0.97175251,  0.98611229,  1.00047207,  1.01483184,\n",
        "         1.02919162,  1.0435514 ,  1.05791118,  1.07227095,  1.08663073,\n",
        "         1.10099051,  1.11535029,  1.12971007,  1.14406984,  1.15842962,\n",
        "         1.1727894 ,  1.18714918,  1.20150895,  1.21586873,  1.23022851,\n",
        "         1.24458829,  1.25894807,  1.27330784,  1.28766762,  1.3020274 ,\n",
        "         1.31638718,  1.33074695,  1.34510673,  1.35946651,  1.37382629,\n",
        "         1.38818607]),\n",
        " <a list of 50 Patch objects>)"
       ]
      },
      {
       "metadata": {},
       "output_type": "display_data",
       "png": "[encoded data removed]",
       "text": [
        "<matplotlib.figure.Figure at 0x4d279d0>"
       ]
      }
     ],
     "prompt_number": 10
    },
    {
     "cell_type": "code",
     "collapsed": false,
     "input": [
      "#numpy\u306b\u3088\u308b\u4e71\u6570\u767a\u751f\n",
      "mean = 1.0\n",
      "sd = 0.1\n",
      "\n",
      "rdat3 = np.random.normal(mean, sd, 1000)\n",
      "        \n",
      "np.mean(rdat3)"
     ],
     "language": "python",
     "metadata": {},
     "outputs": [
      {
       "metadata": {},
       "output_type": "pyout",
       "prompt_number": 11,
       "text": [
        "0.99579401119462163"
       ]
      }
     ],
     "prompt_number": 11
    },
    {
     "cell_type": "code",
     "collapsed": false,
     "input": [
      "plt.hist(rdat3, bins=50)"
     ],
     "language": "python",
     "metadata": {},
     "outputs": [
      {
       "metadata": {},
       "output_type": "pyout",
       "prompt_number": 12,
       "text": [
        "(array([  1.,   0.,   0.,   0.,   0.,   2.,   2.,   0.,   0.,   0.,   5.,\n",
        "          7.,   6.,  10.,   9.,  10.,  14.,  14.,  25.,  27.,  39.,  39.,\n",
        "         49.,  47.,  35.,  63.,  55.,  52.,  54.,  46.,  54.,  46.,  46.,\n",
        "         44.,  41.,  31.,  19.,  27.,  14.,  13.,  10.,  12.,   6.,  11.,\n",
        "          3.,   3.,   3.,   3.,   1.,   2.]),\n",
        " array([ 0.61043924,  0.62425998,  0.63808072,  0.65190146,  0.6657222 ,\n",
        "         0.67954293,  0.69336367,  0.70718441,  0.72100515,  0.73482589,\n",
        "         0.74864663,  0.76246736,  0.7762881 ,  0.79010884,  0.80392958,\n",
        "         0.81775032,  0.83157105,  0.84539179,  0.85921253,  0.87303327,\n",
        "         0.88685401,  0.90067475,  0.91449548,  0.92831622,  0.94213696,\n",
        "         0.9559577 ,  0.96977844,  0.98359917,  0.99741991,  1.01124065,\n",
        "         1.02506139,  1.03888213,  1.05270287,  1.0665236 ,  1.08034434,\n",
        "         1.09416508,  1.10798582,  1.12180656,  1.13562729,  1.14944803,\n",
        "         1.16326877,  1.17708951,  1.19091025,  1.20473099,  1.21855172,\n",
        "         1.23237246,  1.2461932 ,  1.26001394,  1.27383468,  1.28765541,\n",
        "         1.30147615]),\n",
        " <a list of 50 Patch objects>)"
       ]
      },
      {
       "metadata": {},
       "output_type": "display_data",
       "png": "[encoded data removed]",
       "text": [
        "<matplotlib.figure.Figure at 0x4d88550>"
       ]
      }
     ],
     "prompt_number": 12
    },
    {
     "cell_type": "code",
     "collapsed": false,
     "input": [
      "#\u7dda\u5f62\u56de\u5e30 slope, intercept, r-value, p-value, stderr\uff08\u7d50\u679c\u306f\u30bf\u30d7\u30eb\u3067\u8868\u793a\u3055\u308c\u308b\uff09\n",
      "x1 = [1, 2, 3, 4, 5]\n",
      "y1 = [1.2, 3.4, 5.7, 8.2, 9.4]\n",
      "regr = stats.linregress(x1, y1) \n",
      "regr\n"
     ],
     "language": "python",
     "metadata": {},
     "outputs": [
      {
       "metadata": {},
       "output_type": "pyout",
       "prompt_number": 13,
       "text": [
        "(2.1200000000000001,\n",
        " -0.78000000000000025,\n",
        " 0.9948776489062181,\n",
        " 0.00043974802586687104,\n",
        " 0.12436505404118468)"
       ]
      }
     ],
     "prompt_number": 13
    },
    {
     "cell_type": "code",
     "collapsed": false,
     "input": [
      "plt.scatter(x1, y1)\n",
      "#ax.plot(x2, y2)"
     ],
     "language": "python",
     "metadata": {},
     "outputs": [
      {
       "metadata": {},
       "output_type": "pyout",
       "prompt_number": 14,
       "text": [
        "<matplotlib.collections.PathCollection at 0x610a470>"
       ]
      },
      {
       "metadata": {},
       "output_type": "display_data",
       "png": "[encoded data removed]",
       "text": [
        "<matplotlib.figure.Figure at 0x60895f0>"
       ]
      }
     ],
     "prompt_number": 14
    },
    {
     "cell_type": "heading",
     "level": 2,
     "metadata": {},
     "source": [
      "pandas\u306e\u30c7\u30fc\u30bf\u30d5\u30ec\u30fc\u30e0"
     ]
    },
    {
     "cell_type": "code",
     "collapsed": false,
     "input": [
      "dat5 = range(1, 6)\n",
      "dat6 = range(6,11)"
     ],
     "language": "python",
     "metadata": {},
     "outputs": [],
     "prompt_number": 15
    },
    {
     "cell_type": "code",
     "collapsed": false,
     "input": [
      "list(dat5)\n"
     ],
     "language": "python",
     "metadata": {},
     "outputs": [
      {
       "metadata": {},
       "output_type": "pyout",
       "prompt_number": 20,
       "text": [
        "[1, 2, 3, 4, 5]"
       ]
      }
     ],
     "prompt_number": 20
    },
    {
     "cell_type": "code",
     "collapsed": false,
     "input": [
      "dat6"
     ],
     "language": "python",
     "metadata": {},
     "outputs": [
      {
       "metadata": {},
       "output_type": "pyout",
       "prompt_number": 17,
       "text": [
        "range(6, 11)"
       ]
      }
     ],
     "prompt_number": 17
    },
    {
     "cell_type": "code",
     "collapsed": false,
     "input": [
      "#\u30c7\u30fc\u30bf\u3092\u30c7\u30fc\u30bf\u30d5\u30ec\u30fc\u30e0\u306b\u683c\u7d0d\n",
      "df1=DataFrame(list(dat5)) #df1=DataFrame(dat5)\u3060\u3068,3\u7cfb\u3067\u306f\u30a8\u30e9\u30fc\u306b\u306a\u308b\n",
      "df2=DataFrame(list(dat6))\n",
      "df1"
     ],
     "language": "python",
     "metadata": {},
     "outputs": [
      {
       "html": [
        "<div style=\"max-height:1000px;max-width:1500px;overflow:auto;\">\n",
        "<table border=\"1\" class=\"dataframe\">\n",
        "  <thead>\n",
        "    <tr style=\"text-align: right;\">\n",
        "      <th></th>\n",
        "      <th>0</th>\n",
        "    </tr>\n",
        "  </thead>\n",
        "  <tbody>\n",
        "    <tr>\n",
        "      <th>0</th>\n",
        "      <td> 1</td>\n",
        "    </tr>\n",
        "    <tr>\n",
        "      <th>1</th>\n",
        "      <td> 2</td>\n",
        "    </tr>\n",
        "    <tr>\n",
        "      <th>2</th>\n",
        "      <td> 3</td>\n",
        "    </tr>\n",
        "    <tr>\n",
        "      <th>3</th>\n",
        "      <td> 4</td>\n",
        "    </tr>\n",
        "    <tr>\n",
        "      <th>4</th>\n",
        "      <td> 5</td>\n",
        "    </tr>\n",
        "  </tbody>\n",
        "</table>\n",
        "</div>"
       ],
       "metadata": {},
       "output_type": "pyout",
       "prompt_number": 21,
       "text": [
        "   0\n",
        "0  1\n",
        "1  2\n",
        "2  3\n",
        "3  4\n",
        "4  5"
       ]
      }
     ],
     "prompt_number": 21
    },
    {
     "cell_type": "code",
     "collapsed": false,
     "input": [
      "df3 = df1 + df2 #\u30c7\u30fc\u30bf\u30d5\u30ec\u30fc\u30e0\u306e\u8db3\u3057\u7b97\n",
      "df3"
     ],
     "language": "python",
     "metadata": {},
     "outputs": [
      {
       "html": [
        "<div style=\"max-height:1000px;max-width:1500px;overflow:auto;\">\n",
        "<table border=\"1\" class=\"dataframe\">\n",
        "  <thead>\n",
        "    <tr style=\"text-align: right;\">\n",
        "      <th></th>\n",
        "      <th>0</th>\n",
        "    </tr>\n",
        "  </thead>\n",
        "  <tbody>\n",
        "    <tr>\n",
        "      <th>0</th>\n",
        "      <td>  7</td>\n",
        "    </tr>\n",
        "    <tr>\n",
        "      <th>1</th>\n",
        "      <td>  9</td>\n",
        "    </tr>\n",
        "    <tr>\n",
        "      <th>2</th>\n",
        "      <td> 11</td>\n",
        "    </tr>\n",
        "    <tr>\n",
        "      <th>3</th>\n",
        "      <td> 13</td>\n",
        "    </tr>\n",
        "    <tr>\n",
        "      <th>4</th>\n",
        "      <td> 15</td>\n",
        "    </tr>\n",
        "  </tbody>\n",
        "</table>\n",
        "</div>"
       ],
       "metadata": {},
       "output_type": "pyout",
       "prompt_number": 22,
       "text": [
        "    0\n",
        "0   7\n",
        "1   9\n",
        "2  11\n",
        "3  13\n",
        "4  15"
       ]
      }
     ],
     "prompt_number": 22
    },
    {
     "cell_type": "code",
     "collapsed": false,
     "input": [
      "df3.describe() #\u8a18\u8ff0\u7d71\u8a08\u91cf"
     ],
     "language": "python",
     "metadata": {},
     "outputs": [
      {
       "html": [
        "<div style=\"max-height:1000px;max-width:1500px;overflow:auto;\">\n",
        "<table border=\"1\" class=\"dataframe\">\n",
        "  <thead>\n",
        "    <tr style=\"text-align: right;\">\n",
        "      <th></th>\n",
        "      <th>0</th>\n",
        "    </tr>\n",
        "  </thead>\n",
        "  <tbody>\n",
        "    <tr>\n",
        "      <th>count</th>\n",
        "      <td>  5.000000</td>\n",
        "    </tr>\n",
        "    <tr>\n",
        "      <th>mean</th>\n",
        "      <td> 11.000000</td>\n",
        "    </tr>\n",
        "    <tr>\n",
        "      <th>std</th>\n",
        "      <td>  3.162278</td>\n",
        "    </tr>\n",
        "    <tr>\n",
        "      <th>min</th>\n",
        "      <td>  7.000000</td>\n",
        "    </tr>\n",
        "    <tr>\n",
        "      <th>25%</th>\n",
        "      <td>  9.000000</td>\n",
        "    </tr>\n",
        "    <tr>\n",
        "      <th>50%</th>\n",
        "      <td> 11.000000</td>\n",
        "    </tr>\n",
        "    <tr>\n",
        "      <th>75%</th>\n",
        "      <td> 13.000000</td>\n",
        "    </tr>\n",
        "    <tr>\n",
        "      <th>max</th>\n",
        "      <td> 15.000000</td>\n",
        "    </tr>\n",
        "  </tbody>\n",
        "</table>\n",
        "</div>"
       ],
       "metadata": {},
       "output_type": "pyout",
       "prompt_number": 23,
       "text": [
        "               0\n",
        "count   5.000000\n",
        "mean   11.000000\n",
        "std     3.162278\n",
        "min     7.000000\n",
        "25%     9.000000\n",
        "50%    11.000000\n",
        "75%    13.000000\n",
        "max    15.000000"
       ]
      }
     ],
     "prompt_number": 23
    },
    {
     "cell_type": "heading",
     "level": 2,
     "metadata": {},
     "source": [
      "pandas\u306b\u3088\u308bCSV\u30d5\u30a1\u30a4\u30eb\u306e\u30a4\u30f3\u30dd\u30fc\u30c8"
     ]
    },
    {
     "cell_type": "code",
     "collapsed": false,
     "input": [
      "#csv\u30d5\u30a1\u30a4\u30eb\u304c\u5165\u3063\u3066\u3044\u308b\u30d5\u30a9\u30eb\u30c0\u306e\u30d1\u30b9\n",
      "csvpath ='K:/Dropbox/002_PRIVATE/PROJECT/150123_PyLadiesTokyo_Meet-up003/'\n",
      "\n",
      "#CSV\u30d5\u30a1\u30a4\u30eb\u30d1\u30b9\n",
      "data_path = csvpath + \"demo_data2.csv\" \n",
      "pg_level_path = csvpath + \"demo_pg_level.csv\"\n",
      "py_level_path = csvpath + \"demo_py_level.csv\"\n",
      "\n",
      "#\u30c7\u30fc\u30bf\u306e\u8aad\u307f\u8fbc\u307f(\u30c7\u30fc\u30bf\u306e\u30c7\u30fc\u30bf\u30d5\u30ec\u30fc\u30e0\u3078\u306e\u683c\u7d0d)\n",
      "data = pd.read_csv(data_path, header=0) #index\u306a\u3057\u30c7\u30fc\u30bf\n",
      "pg_level = pd.read_csv(pg_level_path, header=0)\n",
      "py_level = pd.read_csv(py_level_path, header=0)\n",
      "#1\u884c\u76ee\u306fheader\u3068\u3057\u3066\u81ea\u52d5\u7684\u306b\u53d6\u5f97\u3055\u308c\u308b\uff08\u305d\u306e\u305f\u3081header=0\u3067OK\uff09\n",
      "#index\u884c\u306e\u30d8\u30c3\u30c0\u306f\u4e0d\u8981\uff08\u3042\u308b\u3068\u30c7\u30fc\u30bf\u3068\u3057\u3066\u30ab\u30a6\u30f3\u30c8\u3055\u308c\u3066\u3057\u307e\u3046\uff09"
     ],
     "language": "python",
     "metadata": {},
     "outputs": [],
     "prompt_number": 24
    },
    {
     "cell_type": "code",
     "collapsed": false,
     "input": [
      "data.dtypes"
     ],
     "language": "python",
     "metadata": {},
     "outputs": [
      {
       "metadata": {},
       "output_type": "pyout",
       "prompt_number": 25,
       "text": [
        "status         int64\n",
        "pg_level       int64\n",
        "py_level       int64\n",
        "entry_date    object\n",
        "entry_time    object\n",
        "dtype: object"
       ]
      }
     ],
     "prompt_number": 25
    },
    {
     "cell_type": "code",
     "collapsed": false,
     "input": [
      "data #\u30c7\u30fc\u30bf"
     ],
     "language": "python",
     "metadata": {},
     "outputs": [
      {
       "html": [
        "<div style=\"max-height:1000px;max-width:1500px;overflow:auto;\">\n",
        "<table border=\"1\" class=\"dataframe\">\n",
        "  <thead>\n",
        "    <tr style=\"text-align: right;\">\n",
        "      <th></th>\n",
        "      <th>status</th>\n",
        "      <th>pg_level</th>\n",
        "      <th>py_level</th>\n",
        "      <th>entry_date</th>\n",
        "      <th>entry_time</th>\n",
        "    </tr>\n",
        "  </thead>\n",
        "  <tbody>\n",
        "    <tr>\n",
        "      <th>0 </th>\n",
        "      <td> 1</td>\n",
        "      <td> 1</td>\n",
        "      <td> 1</td>\n",
        "      <td>  2015/1/8</td>\n",
        "      <td> 20:23</td>\n",
        "    </tr>\n",
        "    <tr>\n",
        "      <th>1 </th>\n",
        "      <td> 1</td>\n",
        "      <td> 2</td>\n",
        "      <td> 2</td>\n",
        "      <td>  2015/1/8</td>\n",
        "      <td> 20:32</td>\n",
        "    </tr>\n",
        "    <tr>\n",
        "      <th>2 </th>\n",
        "      <td> 1</td>\n",
        "      <td> 5</td>\n",
        "      <td> 6</td>\n",
        "      <td>  2015/1/8</td>\n",
        "      <td> 20:36</td>\n",
        "    </tr>\n",
        "    <tr>\n",
        "      <th>3 </th>\n",
        "      <td> 1</td>\n",
        "      <td> 3</td>\n",
        "      <td> 3</td>\n",
        "      <td>  2015/1/8</td>\n",
        "      <td> 21:04</td>\n",
        "    </tr>\n",
        "    <tr>\n",
        "      <th>4 </th>\n",
        "      <td> 1</td>\n",
        "      <td> 3</td>\n",
        "      <td> 3</td>\n",
        "      <td>  2015/1/8</td>\n",
        "      <td> 21:09</td>\n",
        "    </tr>\n",
        "    <tr>\n",
        "      <th>5 </th>\n",
        "      <td> 1</td>\n",
        "      <td> 3</td>\n",
        "      <td> 3</td>\n",
        "      <td>  2015/1/9</td>\n",
        "      <td>  9:37</td>\n",
        "    </tr>\n",
        "    <tr>\n",
        "      <th>6 </th>\n",
        "      <td> 1</td>\n",
        "      <td> 4</td>\n",
        "      <td> 4</td>\n",
        "      <td>  2015/1/9</td>\n",
        "      <td> 17:05</td>\n",
        "    </tr>\n",
        "    <tr>\n",
        "      <th>7 </th>\n",
        "      <td> 1</td>\n",
        "      <td> 4</td>\n",
        "      <td> 3</td>\n",
        "      <td>  2015/1/9</td>\n",
        "      <td> 19:51</td>\n",
        "    </tr>\n",
        "    <tr>\n",
        "      <th>8 </th>\n",
        "      <td> 1</td>\n",
        "      <td> 3</td>\n",
        "      <td> 3</td>\n",
        "      <td> 2015/1/13</td>\n",
        "      <td> 15:05</td>\n",
        "    </tr>\n",
        "    <tr>\n",
        "      <th>9 </th>\n",
        "      <td> 1</td>\n",
        "      <td> 1</td>\n",
        "      <td> 3</td>\n",
        "      <td> 2015/1/13</td>\n",
        "      <td> 19:53</td>\n",
        "    </tr>\n",
        "    <tr>\n",
        "      <th>10</th>\n",
        "      <td> 1</td>\n",
        "      <td> 1</td>\n",
        "      <td> 3</td>\n",
        "      <td> 2015/1/13</td>\n",
        "      <td> 21:52</td>\n",
        "    </tr>\n",
        "    <tr>\n",
        "      <th>11</th>\n",
        "      <td> 1</td>\n",
        "      <td> 3</td>\n",
        "      <td> 3</td>\n",
        "      <td> 2015/1/16</td>\n",
        "      <td> 20:54</td>\n",
        "    </tr>\n",
        "    <tr>\n",
        "      <th>12</th>\n",
        "      <td> 1</td>\n",
        "      <td> 2</td>\n",
        "      <td> 2</td>\n",
        "      <td> 2015/1/18</td>\n",
        "      <td> 22:36</td>\n",
        "    </tr>\n",
        "    <tr>\n",
        "      <th>13</th>\n",
        "      <td> 1</td>\n",
        "      <td> 4</td>\n",
        "      <td> 3</td>\n",
        "      <td> 2015/1/22</td>\n",
        "      <td> 11:35</td>\n",
        "    </tr>\n",
        "    <tr>\n",
        "      <th>14</th>\n",
        "      <td> 1</td>\n",
        "      <td> 4</td>\n",
        "      <td> 4</td>\n",
        "      <td> 2015/1/22</td>\n",
        "      <td> 17:44</td>\n",
        "    </tr>\n",
        "  </tbody>\n",
        "</table>\n",
        "</div>"
       ],
       "metadata": {},
       "output_type": "pyout",
       "prompt_number": 26,
       "text": [
        "    status  pg_level  py_level entry_date entry_time\n",
        "0        1         1         1   2015/1/8      20:23\n",
        "1        1         2         2   2015/1/8      20:32\n",
        "2        1         5         6   2015/1/8      20:36\n",
        "3        1         3         3   2015/1/8      21:04\n",
        "4        1         3         3   2015/1/8      21:09\n",
        "5        1         3         3   2015/1/9       9:37\n",
        "6        1         4         4   2015/1/9      17:05\n",
        "7        1         4         3   2015/1/9      19:51\n",
        "8        1         3         3  2015/1/13      15:05\n",
        "9        1         1         3  2015/1/13      19:53\n",
        "10       1         1         3  2015/1/13      21:52\n",
        "11       1         3         3  2015/1/16      20:54\n",
        "12       1         2         2  2015/1/18      22:36\n",
        "13       1         4         3  2015/1/22      11:35\n",
        "14       1         4         4  2015/1/22      17:44"
       ]
      }
     ],
     "prompt_number": 26
    },
    {
     "cell_type": "code",
     "collapsed": false,
     "input": [
      "pg_level #\u30d7\u30ed\u30b0\u30e9\u30df\u30f3\u30b0\u30ec\u30d9\u30eb"
     ],
     "language": "python",
     "metadata": {},
     "outputs": [
      {
       "html": [
        "<div style=\"max-height:1000px;max-width:1500px;overflow:auto;\">\n",
        "<table border=\"1\" class=\"dataframe\">\n",
        "  <thead>\n",
        "    <tr style=\"text-align: right;\">\n",
        "      <th></th>\n",
        "      <th>pg_level</th>\n",
        "      <th> pg_note</th>\n",
        "    </tr>\n",
        "  </thead>\n",
        "  <tbody>\n",
        "    <tr>\n",
        "      <th>0</th>\n",
        "      <td> 1</td>\n",
        "      <td>                I'm a programmer</td>\n",
        "    </tr>\n",
        "    <tr>\n",
        "      <th>1</th>\n",
        "      <td> 2</td>\n",
        "      <td>     I'm  a programming beginner</td>\n",
        "    </tr>\n",
        "    <tr>\n",
        "      <th>2</th>\n",
        "      <td> 3</td>\n",
        "      <td>   I have programming experience</td>\n",
        "    </tr>\n",
        "    <tr>\n",
        "      <th>3</th>\n",
        "      <td> 4</td>\n",
        "      <td>  I want to get programming skil</td>\n",
        "    </tr>\n",
        "    <tr>\n",
        "      <th>4</th>\n",
        "      <td> 5</td>\n",
        "      <td>     I don't answer the question</td>\n",
        "    </tr>\n",
        "  </tbody>\n",
        "</table>\n",
        "</div>"
       ],
       "metadata": {},
       "output_type": "pyout",
       "prompt_number": 27,
       "text": [
        "   pg_level                          pg_note\n",
        "0         1                 I'm a programmer\n",
        "1         2      I'm  a programming beginner\n",
        "2         3    I have programming experience\n",
        "3         4   I want to get programming skil\n",
        "4         5      I don't answer the question"
       ]
      }
     ],
     "prompt_number": 27
    },
    {
     "cell_type": "code",
     "collapsed": false,
     "input": [
      "py_level #Python\u30ec\u30d9\u30eb"
     ],
     "language": "python",
     "metadata": {},
     "outputs": [
      {
       "html": [
        "<div style=\"max-height:1000px;max-width:1500px;overflow:auto;\">\n",
        "<table border=\"1\" class=\"dataframe\">\n",
        "  <thead>\n",
        "    <tr style=\"text-align: right;\">\n",
        "      <th></th>\n",
        "      <th>py_level</th>\n",
        "      <th> py_note</th>\n",
        "    </tr>\n",
        "  </thead>\n",
        "  <tbody>\n",
        "    <tr>\n",
        "      <th>0</th>\n",
        "      <td> 1</td>\n",
        "      <td>                I'm a Pythonista</td>\n",
        "    </tr>\n",
        "    <tr>\n",
        "      <th>1</th>\n",
        "      <td> 2</td>\n",
        "      <td>          I am a Python beginner</td>\n",
        "    </tr>\n",
        "    <tr>\n",
        "      <th>2</th>\n",
        "      <td> 3</td>\n",
        "      <td>  I just started to learn Python</td>\n",
        "    </tr>\n",
        "    <tr>\n",
        "      <th>3</th>\n",
        "      <td> 4</td>\n",
        "      <td>                   I know Python</td>\n",
        "    </tr>\n",
        "    <tr>\n",
        "      <th>4</th>\n",
        "      <td> 5</td>\n",
        "      <td>             I don't know Python</td>\n",
        "    </tr>\n",
        "    <tr>\n",
        "      <th>5</th>\n",
        "      <td> 6</td>\n",
        "      <td>     I don't answer the question</td>\n",
        "    </tr>\n",
        "  </tbody>\n",
        "</table>\n",
        "</div>"
       ],
       "metadata": {},
       "output_type": "pyout",
       "prompt_number": 28,
       "text": [
        "   py_level                          py_note\n",
        "0         1                 I'm a Pythonista\n",
        "1         2           I am a Python beginner\n",
        "2         3   I just started to learn Python\n",
        "3         4                    I know Python\n",
        "4         5              I don't know Python\n",
        "5         6      I don't answer the question"
       ]
      }
     ],
     "prompt_number": 28
    },
    {
     "cell_type": "code",
     "collapsed": false,
     "input": [
      "data.head(3) #\u6700\u521d\u304b\u30893\u3064\u3081\u307e\u3067\u306e\u30c7\u30fc\u30bf"
     ],
     "language": "python",
     "metadata": {},
     "outputs": [
      {
       "html": [
        "<div style=\"max-height:1000px;max-width:1500px;overflow:auto;\">\n",
        "<table border=\"1\" class=\"dataframe\">\n",
        "  <thead>\n",
        "    <tr style=\"text-align: right;\">\n",
        "      <th></th>\n",
        "      <th>status</th>\n",
        "      <th>pg_level</th>\n",
        "      <th>py_level</th>\n",
        "      <th>entry_date</th>\n",
        "      <th>entry_time</th>\n",
        "    </tr>\n",
        "  </thead>\n",
        "  <tbody>\n",
        "    <tr>\n",
        "      <th>0</th>\n",
        "      <td> 1</td>\n",
        "      <td> 1</td>\n",
        "      <td> 1</td>\n",
        "      <td> 2015/1/8</td>\n",
        "      <td> 20:23</td>\n",
        "    </tr>\n",
        "    <tr>\n",
        "      <th>1</th>\n",
        "      <td> 1</td>\n",
        "      <td> 2</td>\n",
        "      <td> 2</td>\n",
        "      <td> 2015/1/8</td>\n",
        "      <td> 20:32</td>\n",
        "    </tr>\n",
        "    <tr>\n",
        "      <th>2</th>\n",
        "      <td> 1</td>\n",
        "      <td> 5</td>\n",
        "      <td> 6</td>\n",
        "      <td> 2015/1/8</td>\n",
        "      <td> 20:36</td>\n",
        "    </tr>\n",
        "  </tbody>\n",
        "</table>\n",
        "</div>"
       ],
       "metadata": {},
       "output_type": "pyout",
       "prompt_number": 29,
       "text": [
        "   status  pg_level  py_level entry_date entry_time\n",
        "0       1         1         1   2015/1/8      20:23\n",
        "1       1         2         2   2015/1/8      20:32\n",
        "2       1         5         6   2015/1/8      20:36"
       ]
      }
     ],
     "prompt_number": 29
    },
    {
     "cell_type": "code",
     "collapsed": false,
     "input": [
      "data.tail(2) #\u5f8c\u308d\u304b\u30892\u3064\u306e\u30c7\u30fc\u30bf"
     ],
     "language": "python",
     "metadata": {},
     "outputs": [
      {
       "html": [
        "<div style=\"max-height:1000px;max-width:1500px;overflow:auto;\">\n",
        "<table border=\"1\" class=\"dataframe\">\n",
        "  <thead>\n",
        "    <tr style=\"text-align: right;\">\n",
        "      <th></th>\n",
        "      <th>status</th>\n",
        "      <th>pg_level</th>\n",
        "      <th>py_level</th>\n",
        "      <th>entry_date</th>\n",
        "      <th>entry_time</th>\n",
        "    </tr>\n",
        "  </thead>\n",
        "  <tbody>\n",
        "    <tr>\n",
        "      <th>13</th>\n",
        "      <td> 1</td>\n",
        "      <td> 4</td>\n",
        "      <td> 3</td>\n",
        "      <td> 2015/1/22</td>\n",
        "      <td> 11:35</td>\n",
        "    </tr>\n",
        "    <tr>\n",
        "      <th>14</th>\n",
        "      <td> 1</td>\n",
        "      <td> 4</td>\n",
        "      <td> 4</td>\n",
        "      <td> 2015/1/22</td>\n",
        "      <td> 17:44</td>\n",
        "    </tr>\n",
        "  </tbody>\n",
        "</table>\n",
        "</div>"
       ],
       "metadata": {},
       "output_type": "pyout",
       "prompt_number": 30,
       "text": [
        "    status  pg_level  py_level entry_date entry_time\n",
        "13       1         4         3  2015/1/22      11:35\n",
        "14       1         4         4  2015/1/22      17:44"
       ]
      }
     ],
     "prompt_number": 30
    },
    {
     "cell_type": "code",
     "collapsed": false,
     "input": [
      "data[2:4] #2-3\u756a\u76ee\u306e\u30c7\u30fc\u30bf"
     ],
     "language": "python",
     "metadata": {},
     "outputs": [
      {
       "html": [
        "<div style=\"max-height:1000px;max-width:1500px;overflow:auto;\">\n",
        "<table border=\"1\" class=\"dataframe\">\n",
        "  <thead>\n",
        "    <tr style=\"text-align: right;\">\n",
        "      <th></th>\n",
        "      <th>status</th>\n",
        "      <th>pg_level</th>\n",
        "      <th>py_level</th>\n",
        "      <th>entry_date</th>\n",
        "      <th>entry_time</th>\n",
        "    </tr>\n",
        "  </thead>\n",
        "  <tbody>\n",
        "    <tr>\n",
        "      <th>2</th>\n",
        "      <td> 1</td>\n",
        "      <td> 5</td>\n",
        "      <td> 6</td>\n",
        "      <td> 2015/1/8</td>\n",
        "      <td> 20:36</td>\n",
        "    </tr>\n",
        "    <tr>\n",
        "      <th>3</th>\n",
        "      <td> 1</td>\n",
        "      <td> 3</td>\n",
        "      <td> 3</td>\n",
        "      <td> 2015/1/8</td>\n",
        "      <td> 21:04</td>\n",
        "    </tr>\n",
        "  </tbody>\n",
        "</table>\n",
        "</div>"
       ],
       "metadata": {},
       "output_type": "pyout",
       "prompt_number": 31,
       "text": [
        "   status  pg_level  py_level entry_date entry_time\n",
        "2       1         5         6   2015/1/8      20:36\n",
        "3       1         3         3   2015/1/8      21:04"
       ]
      }
     ],
     "prompt_number": 31
    },
    {
     "cell_type": "code",
     "collapsed": false,
     "input": [
      "data[10:] #10\u756a\u76ee\u4ee5\u964d\u306e\u30c7\u30fc\u30bf"
     ],
     "language": "python",
     "metadata": {},
     "outputs": [
      {
       "html": [
        "<div style=\"max-height:1000px;max-width:1500px;overflow:auto;\">\n",
        "<table border=\"1\" class=\"dataframe\">\n",
        "  <thead>\n",
        "    <tr style=\"text-align: right;\">\n",
        "      <th></th>\n",
        "      <th>status</th>\n",
        "      <th>pg_level</th>\n",
        "      <th>py_level</th>\n",
        "      <th>entry_date</th>\n",
        "      <th>entry_time</th>\n",
        "    </tr>\n",
        "  </thead>\n",
        "  <tbody>\n",
        "    <tr>\n",
        "      <th>10</th>\n",
        "      <td> 1</td>\n",
        "      <td> 1</td>\n",
        "      <td> 3</td>\n",
        "      <td> 2015/1/13</td>\n",
        "      <td> 21:52</td>\n",
        "    </tr>\n",
        "    <tr>\n",
        "      <th>11</th>\n",
        "      <td> 1</td>\n",
        "      <td> 3</td>\n",
        "      <td> 3</td>\n",
        "      <td> 2015/1/16</td>\n",
        "      <td> 20:54</td>\n",
        "    </tr>\n",
        "    <tr>\n",
        "      <th>12</th>\n",
        "      <td> 1</td>\n",
        "      <td> 2</td>\n",
        "      <td> 2</td>\n",
        "      <td> 2015/1/18</td>\n",
        "      <td> 22:36</td>\n",
        "    </tr>\n",
        "    <tr>\n",
        "      <th>13</th>\n",
        "      <td> 1</td>\n",
        "      <td> 4</td>\n",
        "      <td> 3</td>\n",
        "      <td> 2015/1/22</td>\n",
        "      <td> 11:35</td>\n",
        "    </tr>\n",
        "    <tr>\n",
        "      <th>14</th>\n",
        "      <td> 1</td>\n",
        "      <td> 4</td>\n",
        "      <td> 4</td>\n",
        "      <td> 2015/1/22</td>\n",
        "      <td> 17:44</td>\n",
        "    </tr>\n",
        "  </tbody>\n",
        "</table>\n",
        "</div>"
       ],
       "metadata": {},
       "output_type": "pyout",
       "prompt_number": 32,
       "text": [
        "    status  pg_level  py_level entry_date entry_time\n",
        "10       1         1         3  2015/1/13      21:52\n",
        "11       1         3         3  2015/1/16      20:54\n",
        "12       1         2         2  2015/1/18      22:36\n",
        "13       1         4         3  2015/1/22      11:35\n",
        "14       1         4         4  2015/1/22      17:44"
       ]
      }
     ],
     "prompt_number": 32
    },
    {
     "cell_type": "code",
     "collapsed": false,
     "input": [
      "data['pg_level'] #'pg_level'\u306e\u30c7\u30fc\u30bf\u3092\u8868\u793a"
     ],
     "language": "python",
     "metadata": {},
     "outputs": [
      {
       "metadata": {},
       "output_type": "pyout",
       "prompt_number": 33,
       "text": [
        "0     1\n",
        "1     2\n",
        "2     5\n",
        "3     3\n",
        "4     3\n",
        "5     3\n",
        "6     4\n",
        "7     4\n",
        "8     3\n",
        "9     1\n",
        "10    1\n",
        "11    3\n",
        "12    2\n",
        "13    4\n",
        "14    4\n",
        "Name: pg_level, dtype: int64"
       ]
      }
     ],
     "prompt_number": 33
    },
    {
     "cell_type": "code",
     "collapsed": false,
     "input": [
      "data['py_level'].head(3) #'pg_level'\u306e\u30c7\u30fc\u30bf\u30923\u3064\u8868\u793a"
     ],
     "language": "python",
     "metadata": {},
     "outputs": [
      {
       "metadata": {},
       "output_type": "pyout",
       "prompt_number": 34,
       "text": [
        "0    1\n",
        "1    2\n",
        "2    6\n",
        "Name: py_level, dtype: int64"
       ]
      }
     ],
     "prompt_number": 34
    },
    {
     "cell_type": "code",
     "collapsed": false,
     "input": [
      "py_level_c = data['py_level'].value_counts() #'pg_level'\u306e\u30c7\u30fc\u30bf\u6570\u3092\u30ab\u30a6\u30f3\u30c8\n",
      "py_level_c"
     ],
     "language": "python",
     "metadata": {},
     "outputs": [
      {
       "metadata": {},
       "output_type": "pyout",
       "prompt_number": 35,
       "text": [
        "3    9\n",
        "4    2\n",
        "2    2\n",
        "6    1\n",
        "1    1\n",
        "dtype: int64"
       ]
      }
     ],
     "prompt_number": 35
    },
    {
     "cell_type": "code",
     "collapsed": false,
     "input": [
      "py_level"
     ],
     "language": "python",
     "metadata": {},
     "outputs": [
      {
       "html": [
        "<div style=\"max-height:1000px;max-width:1500px;overflow:auto;\">\n",
        "<table border=\"1\" class=\"dataframe\">\n",
        "  <thead>\n",
        "    <tr style=\"text-align: right;\">\n",
        "      <th></th>\n",
        "      <th>py_level</th>\n",
        "      <th> py_note</th>\n",
        "    </tr>\n",
        "  </thead>\n",
        "  <tbody>\n",
        "    <tr>\n",
        "      <th>0</th>\n",
        "      <td> 1</td>\n",
        "      <td>                I'm a Pythonista</td>\n",
        "    </tr>\n",
        "    <tr>\n",
        "      <th>1</th>\n",
        "      <td> 2</td>\n",
        "      <td>          I am a Python beginner</td>\n",
        "    </tr>\n",
        "    <tr>\n",
        "      <th>2</th>\n",
        "      <td> 3</td>\n",
        "      <td>  I just started to learn Python</td>\n",
        "    </tr>\n",
        "    <tr>\n",
        "      <th>3</th>\n",
        "      <td> 4</td>\n",
        "      <td>                   I know Python</td>\n",
        "    </tr>\n",
        "    <tr>\n",
        "      <th>4</th>\n",
        "      <td> 5</td>\n",
        "      <td>             I don't know Python</td>\n",
        "    </tr>\n",
        "    <tr>\n",
        "      <th>5</th>\n",
        "      <td> 6</td>\n",
        "      <td>     I don't answer the question</td>\n",
        "    </tr>\n",
        "  </tbody>\n",
        "</table>\n",
        "</div>"
       ],
       "metadata": {},
       "output_type": "pyout",
       "prompt_number": 36,
       "text": [
        "   py_level                          py_note\n",
        "0         1                 I'm a Pythonista\n",
        "1         2           I am a Python beginner\n",
        "2         3   I just started to learn Python\n",
        "3         4                    I know Python\n",
        "4         5              I don't know Python\n",
        "5         6      I don't answer the question"
       ]
      }
     ],
     "prompt_number": 36
    },
    {
     "cell_type": "code",
     "collapsed": false,
     "input": [
      "py_level_c.plot(kind='barh') #\u7e26\u578b\u306b\u30d7\u30ed\u30c3\u30c8\n",
      "#\u6a2a\u578b\u306b\u3059\u308b\u5834\u5408\u306fkind='barh'"
     ],
     "language": "python",
     "metadata": {},
     "outputs": [
      {
       "metadata": {},
       "output_type": "pyout",
       "prompt_number": 37,
       "text": [
        "<matplotlib.axes._subplots.AxesSubplot at 0x620f610>"
       ]
      },
      {
       "metadata": {},
       "output_type": "display_data",
       "png": "[encoded data removed]",
       "text": [
        "<matplotlib.figure.Figure at 0x620f4d0>"
       ]
      }
     ],
     "prompt_number": 37
    },
    {
     "cell_type": "code",
     "collapsed": false,
     "input": [
      "pg_level_c = data['pg_level'].value_counts() #'pg_level'\u306e\u30c7\u30fc\u30bf\u6570\u3092\u30ab\u30a6\u30f3\u30c8\n",
      "pg_level_c"
     ],
     "language": "python",
     "metadata": {},
     "outputs": [
      {
       "metadata": {},
       "output_type": "pyout",
       "prompt_number": 38,
       "text": [
        "3    5\n",
        "4    4\n",
        "1    3\n",
        "2    2\n",
        "5    1\n",
        "dtype: int64"
       ]
      }
     ],
     "prompt_number": 38
    },
    {
     "cell_type": "code",
     "collapsed": false,
     "input": [
      "pg_level"
     ],
     "language": "python",
     "metadata": {},
     "outputs": [
      {
       "html": [
        "<div style=\"max-height:1000px;max-width:1500px;overflow:auto;\">\n",
        "<table border=\"1\" class=\"dataframe\">\n",
        "  <thead>\n",
        "    <tr style=\"text-align: right;\">\n",
        "      <th></th>\n",
        "      <th>pg_level</th>\n",
        "      <th> pg_note</th>\n",
        "    </tr>\n",
        "  </thead>\n",
        "  <tbody>\n",
        "    <tr>\n",
        "      <th>0</th>\n",
        "      <td> 1</td>\n",
        "      <td>                I'm a programmer</td>\n",
        "    </tr>\n",
        "    <tr>\n",
        "      <th>1</th>\n",
        "      <td> 2</td>\n",
        "      <td>     I'm  a programming beginner</td>\n",
        "    </tr>\n",
        "    <tr>\n",
        "      <th>2</th>\n",
        "      <td> 3</td>\n",
        "      <td>   I have programming experience</td>\n",
        "    </tr>\n",
        "    <tr>\n",
        "      <th>3</th>\n",
        "      <td> 4</td>\n",
        "      <td>  I want to get programming skil</td>\n",
        "    </tr>\n",
        "    <tr>\n",
        "      <th>4</th>\n",
        "      <td> 5</td>\n",
        "      <td>     I don't answer the question</td>\n",
        "    </tr>\n",
        "  </tbody>\n",
        "</table>\n",
        "</div>"
       ],
       "metadata": {},
       "output_type": "pyout",
       "prompt_number": 39,
       "text": [
        "   pg_level                          pg_note\n",
        "0         1                 I'm a programmer\n",
        "1         2      I'm  a programming beginner\n",
        "2         3    I have programming experience\n",
        "3         4   I want to get programming skil\n",
        "4         5      I don't answer the question"
       ]
      }
     ],
     "prompt_number": 39
    },
    {
     "cell_type": "code",
     "collapsed": false,
     "input": [
      "pg_level_c.plot(kind='bar') #\u7e26\u578b\u306b\u30d7\u30ed\u30c3\u30c8"
     ],
     "language": "python",
     "metadata": {},
     "outputs": [
      {
       "metadata": {},
       "output_type": "pyout",
       "prompt_number": 40,
       "text": [
        "<matplotlib.axes._subplots.AxesSubplot at 0x615ba90>"
       ]
      },
      {
       "metadata": {},
       "output_type": "display_data",
       "png": "[encoded data removed]",
       "text": [
        "<matplotlib.figure.Figure at 0x6250950>"
       ]
      }
     ],
     "prompt_number": 40
    },
    {
     "cell_type": "code",
     "collapsed": false,
     "input": [
      "merge1 = pd.merge(data, pg_level, on='pg_level')\n",
      "merge2 = pd.merge(merge1, py_level, on='py_level')\n",
      "merge2.head(3)"
     ],
     "language": "python",
     "metadata": {},
     "outputs": [
      {
       "html": [
        "<div style=\"max-height:1000px;max-width:1500px;overflow:auto;\">\n",
        "<table border=\"1\" class=\"dataframe\">\n",
        "  <thead>\n",
        "    <tr style=\"text-align: right;\">\n",
        "      <th></th>\n",
        "      <th>status</th>\n",
        "      <th>pg_level</th>\n",
        "      <th>py_level</th>\n",
        "      <th>entry_date</th>\n",
        "      <th>entry_time</th>\n",
        "      <th> pg_note</th>\n",
        "      <th> py_note</th>\n",
        "    </tr>\n",
        "  </thead>\n",
        "  <tbody>\n",
        "    <tr>\n",
        "      <th>0</th>\n",
        "      <td> 1</td>\n",
        "      <td> 1</td>\n",
        "      <td> 1</td>\n",
        "      <td>  2015/1/8</td>\n",
        "      <td> 20:23</td>\n",
        "      <td>  I'm a programmer</td>\n",
        "      <td>                I'm a Pythonista</td>\n",
        "    </tr>\n",
        "    <tr>\n",
        "      <th>1</th>\n",
        "      <td> 1</td>\n",
        "      <td> 1</td>\n",
        "      <td> 3</td>\n",
        "      <td> 2015/1/13</td>\n",
        "      <td> 19:53</td>\n",
        "      <td>  I'm a programmer</td>\n",
        "      <td>  I just started to learn Python</td>\n",
        "    </tr>\n",
        "    <tr>\n",
        "      <th>2</th>\n",
        "      <td> 1</td>\n",
        "      <td> 1</td>\n",
        "      <td> 3</td>\n",
        "      <td> 2015/1/13</td>\n",
        "      <td> 21:52</td>\n",
        "      <td>  I'm a programmer</td>\n",
        "      <td>  I just started to learn Python</td>\n",
        "    </tr>\n",
        "  </tbody>\n",
        "</table>\n",
        "</div>"
       ],
       "metadata": {},
       "output_type": "pyout",
       "prompt_number": 41,
       "text": [
        "   status  pg_level  py_level entry_date entry_time            pg_note  \\\n",
        "0       1         1         1   2015/1/8      20:23   I'm a programmer   \n",
        "1       1         1         3  2015/1/13      19:53   I'm a programmer   \n",
        "2       1         1         3  2015/1/13      21:52   I'm a programmer   \n",
        "\n",
        "                           py_note  \n",
        "0                 I'm a Pythonista  \n",
        "1   I just started to learn Python  \n",
        "2   I just started to learn Python  "
       ]
      }
     ],
     "prompt_number": 41
    },
    {
     "cell_type": "heading",
     "level": 1,
     "metadata": {},
     "source": [
      "itertools"
     ]
    },
    {
     "cell_type": "markdown",
     "metadata": {},
     "source": [
      "\u30c1\u30e5\u30fc\u30c8\u30ea\u30a2\u30eb\u300cPyData\u5165\u9580\u300d\u306e\u53d7\u8b1b\u30e1\u30e2\u3088\u308a:  \n",
      "* itertools\u306ffor\u6587\u3060\u3068\u9762\u5012\u306a\u3068\u3053\u308d\u3092\u7701\u7565\u3057\u3066\u304f\u308c\u308b  \n",
      "* for\u3067\u3084\u308d\u3046\u3068\u3059\u308b\u524d\u306biteratools\u306e\u30c4\u30fc\u30eb\u3092\u63a2\u305b\uff01\n"
     ]
    },
    {
     "cell_type": "code",
     "collapsed": false,
     "input": [
      "#combinations \u7d44\u307f\u5408\u308f\u305b\u30ea\u30b9\u30c8\u4f5c\u6210\n",
      "\n",
      "d1 = ['spam', 'ham', 'egg']\n",
      "\n",
      "for x in itertools.combinations(d1,2):\n",
      "    print(x)"
     ],
     "language": "python",
     "metadata": {},
     "outputs": [
      {
       "output_type": "stream",
       "stream": "stdout",
       "text": [
        "('spam', 'ham')\n",
        "('spam', 'egg')\n",
        "('ham', 'egg')\n"
       ]
      }
     ],
     "prompt_number": 42
    },
    {
     "cell_type": "code",
     "collapsed": false,
     "input": [
      "#permutations \u9806\u5217\u306e\u30ea\u30b9\u30c8\u751f\u6210\n",
      "\n",
      "d2 = ['Py', 'Ladies', 'Tokyo']\n",
      "\n",
      "for y in itertools.permutations(d2):\n",
      "    print(y)"
     ],
     "language": "python",
     "metadata": {},
     "outputs": [
      {
       "output_type": "stream",
       "stream": "stdout",
       "text": [
        "('Py', 'Ladies', 'Tokyo')\n",
        "('Py', 'Tokyo', 'Ladies')\n",
        "('Ladies', 'Py', 'Tokyo')\n",
        "('Ladies', 'Tokyo', 'Py')\n",
        "('Tokyo', 'Py', 'Ladies')\n",
        "('Tokyo', 'Ladies', 'Py')\n"
       ]
      }
     ],
     "prompt_number": 43
    },
    {
     "cell_type": "markdown",
     "metadata": {},
     "source": [
      "statistics module  \n",
      "mean  \n",
      "median  \n",
      "pstdev  \n",
      "Python3.4\u304b\u3089\u6a19\u6e96\u642d\u8f09\n"
     ]
    }
   ],
   "metadata": {}
  }
 ]
}